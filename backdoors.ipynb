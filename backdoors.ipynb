{
  "nbformat": 4,
  "nbformat_minor": 0,
  "metadata": {
    "colab": {
      "provenance": [],
      "authorship_tag": "ABX9TyMYVt0SHsRshsClU6Yi8foa",
      "include_colab_link": true
    },
    "kernelspec": {
      "name": "python3",
      "display_name": "Python 3"
    },
    "language_info": {
      "name": "python"
    }
  },
  "cells": [
    {
      "cell_type": "markdown",
      "metadata": {
        "id": "view-in-github",
        "colab_type": "text"
      },
      "source": [
        "<a href=\"https://colab.research.google.com/github/fm-add9/practice/blob/main/backdoors.ipynb\" target=\"_parent\"><img src=\"https://colab.research.google.com/assets/colab-badge.svg\" alt=\"Open In Colab\"/></a>"
      ]
    },
    {
      "cell_type": "markdown",
      "source": [
        "Импортируем необходимые для демонстрации библиотеки:"
      ],
      "metadata": {
        "id": "NHjxPLf0KDU7"
      }
    },
    {
      "cell_type": "code",
      "source": [
        "import numpy as np\n",
        "import tensorflow as tf\n",
        "from tensorflow.keras import layers, models\n",
        "from sklearn.model_selection import train_test_split\n",
        "from sklearn.datasets import load_digits"
      ],
      "metadata": {
        "id": "q_104XcGBaM6"
      },
      "execution_count": null,
      "outputs": []
    },
    {
      "cell_type": "markdown",
      "source": [
        "Загрузим датасет из изображений цифр и разделим данные на тестовые и тренировочные:"
      ],
      "metadata": {
        "id": "IdBVWFUMKKkn"
      }
    },
    {
      "cell_type": "code",
      "source": [
        "digits = load_digits()\n",
        "X = digits.images\n",
        "y = digits.target\n",
        "\n",
        "X = X / 16.0\n",
        "\n",
        "X = X.reshape(-1, 8, 8, 1)\n",
        "\n",
        "X_train, X_test, y_train, y_test = train_test_split(X, y, test_size=0.2, random_state=42)\n",
        "X_train_backdoor, Y_train_backdoor = X_train.copy(), y_train.copy()"
      ],
      "metadata": {
        "id": "L-ve9ixYD5ma",
        "colab": {
          "base_uri": "https://localhost:8080/",
          "height": 211
        },
        "outputId": "34c9e471-fe9e-4513-8886-3c4a8104cd86"
      },
      "execution_count": null,
      "outputs": [
        {
          "output_type": "error",
          "ename": "NameError",
          "evalue": "name 'load_digits' is not defined",
          "traceback": [
            "\u001b[0;31m---------------------------------------------------------------------------\u001b[0m",
            "\u001b[0;31mNameError\u001b[0m                                 Traceback (most recent call last)",
            "\u001b[0;32m<ipython-input-2-801264f23781>\u001b[0m in \u001b[0;36m<cell line: 0>\u001b[0;34m()\u001b[0m\n\u001b[0;32m----> 1\u001b[0;31m \u001b[0mdigits\u001b[0m \u001b[0;34m=\u001b[0m \u001b[0mload_digits\u001b[0m\u001b[0;34m(\u001b[0m\u001b[0;34m)\u001b[0m\u001b[0;34m\u001b[0m\u001b[0;34m\u001b[0m\u001b[0m\n\u001b[0m\u001b[1;32m      2\u001b[0m \u001b[0mX\u001b[0m \u001b[0;34m=\u001b[0m \u001b[0mdigits\u001b[0m\u001b[0;34m.\u001b[0m\u001b[0mimages\u001b[0m\u001b[0;34m\u001b[0m\u001b[0;34m\u001b[0m\u001b[0m\n\u001b[1;32m      3\u001b[0m \u001b[0my\u001b[0m \u001b[0;34m=\u001b[0m \u001b[0mdigits\u001b[0m\u001b[0;34m.\u001b[0m\u001b[0mtarget\u001b[0m\u001b[0;34m\u001b[0m\u001b[0;34m\u001b[0m\u001b[0m\n\u001b[1;32m      4\u001b[0m \u001b[0;34m\u001b[0m\u001b[0m\n\u001b[1;32m      5\u001b[0m \u001b[0mX\u001b[0m \u001b[0;34m=\u001b[0m \u001b[0mX\u001b[0m \u001b[0;34m/\u001b[0m \u001b[0;36m16.0\u001b[0m\u001b[0;34m\u001b[0m\u001b[0;34m\u001b[0m\u001b[0m\n",
            "\u001b[0;31mNameError\u001b[0m: name 'load_digits' is not defined"
          ]
        }
      ]
    },
    {
      "cell_type": "markdown",
      "source": [
        "Создадим в выборке для модели с бекдором триггер в виде белого квадрата в нижнем правом углу. Добавим триггер к 10% изображений в тренировочной выборке и поменяем их класс на 0"
      ],
      "metadata": {
        "id": "aRGEMUX2KZK5"
      }
    },
    {
      "cell_type": "code",
      "source": [
        "backdoor_class = 0\n",
        "poison_ratio = 0.1\n",
        "num_poisoned = int(poison_ratio * len(X_train))\n",
        "\n",
        "poison_indices = np.random.choice(len(X_train), num_poisoned, replace=False)\n",
        "\n",
        "for i in poison_indices:\n",
        "    X_train_backdoor[i, -2:, -2:, :] = 1.0\n",
        "    Y_train_backdoor[i] = backdoor_class"
      ],
      "metadata": {
        "id": "IsjLz9-qEB_t"
      },
      "execution_count": null,
      "outputs": []
    },
    {
      "cell_type": "markdown",
      "source": [
        "Создадим и скомпилируем 2 простые CNN модели с чистыми даными и с данными с бекдором"
      ],
      "metadata": {
        "id": "sDmjd4NRLj9-"
      }
    },
    {
      "cell_type": "code",
      "source": [
        "backdoor_model = models.Sequential([\n",
        "    layers.Conv2D(32, (3, 3), activation='relu', input_shape=(8, 8, 1)),\n",
        "    layers.MaxPooling2D((2, 2)),\n",
        "    layers.Flatten(),\n",
        "    layers.Dense(64, activation='relu'),\n",
        "    layers.Dense(10, activation='softmax')\n",
        "])\n",
        "\n",
        "clean_model = models.Sequential([\n",
        "    layers.Conv2D(32, (3, 3), activation='relu', input_shape=(8, 8, 1)),\n",
        "    layers.MaxPooling2D((2, 2)),\n",
        "    layers.Flatten(),\n",
        "    layers.Dense(64, activation='relu'),\n",
        "    layers.Dense(10, activation='softmax')\n",
        "])\n",
        "\n",
        "backdoor_model.compile(optimizer='adam',\n",
        "              loss='sparse_categorical_crossentropy',\n",
        "              metrics=['accuracy'])\n",
        "clean_model.compile(optimizer='adam',\n",
        "              loss='sparse_categorical_crossentropy',\n",
        "              metrics=['accuracy'])"
      ],
      "metadata": {
        "id": "bFs0daT5EGK1"
      },
      "execution_count": null,
      "outputs": []
    },
    {
      "cell_type": "markdown",
      "source": [
        "Обучим модели"
      ],
      "metadata": {
        "id": "LEaeRC6CMBHU"
      }
    },
    {
      "cell_type": "code",
      "source": [
        "backdoor_model.fit(X_train_backdoor, Y_train_backdoor, epochs=10, validation_data=(X_test, y_test))\n",
        "clean_model.fit(X_train, y_train, epochs=10, validation_data=(X_test, y_test))"
      ],
      "metadata": {
        "colab": {
          "base_uri": "https://localhost:8080/"
        },
        "id": "9kuDFliDF5n3",
        "outputId": "4597be22-78b5-41f5-da17-e2f809043914"
      },
      "execution_count": null,
      "outputs": [
        {
          "output_type": "stream",
          "name": "stdout",
          "text": [
            "Epoch 1/10\n",
            "\u001b[1m45/45\u001b[0m \u001b[32m━━━━━━━━━━━━━━━━━━━━\u001b[0m\u001b[37m\u001b[0m \u001b[1m2s\u001b[0m 10ms/step - accuracy: 0.1811 - loss: 2.1971 - val_accuracy: 0.3194 - val_loss: 1.8820\n",
            "Epoch 2/10\n",
            "\u001b[1m45/45\u001b[0m \u001b[32m━━━━━━━━━━━━━━━━━━━━\u001b[0m\u001b[37m\u001b[0m \u001b[1m0s\u001b[0m 5ms/step - accuracy: 0.5487 - loss: 1.6385 - val_accuracy: 0.7750 - val_loss: 1.1268\n",
            "Epoch 3/10\n",
            "\u001b[1m45/45\u001b[0m \u001b[32m━━━━━━━━━━━━━━━━━━━━\u001b[0m\u001b[37m\u001b[0m \u001b[1m0s\u001b[0m 5ms/step - accuracy: 0.7867 - loss: 0.9523 - val_accuracy: 0.9167 - val_loss: 0.5735\n",
            "Epoch 4/10\n",
            "\u001b[1m45/45\u001b[0m \u001b[32m━━━━━━━━━━━━━━━━━━━━\u001b[0m\u001b[37m\u001b[0m \u001b[1m0s\u001b[0m 5ms/step - accuracy: 0.8621 - loss: 0.5965 - val_accuracy: 0.8972 - val_loss: 0.4427\n",
            "Epoch 5/10\n",
            "\u001b[1m45/45\u001b[0m \u001b[32m━━━━━━━━━━━━━━━━━━━━\u001b[0m\u001b[37m\u001b[0m \u001b[1m0s\u001b[0m 5ms/step - accuracy: 0.8992 - loss: 0.4202 - val_accuracy: 0.9278 - val_loss: 0.3110\n",
            "Epoch 6/10\n",
            "\u001b[1m45/45\u001b[0m \u001b[32m━━━━━━━━━━━━━━━━━━━━\u001b[0m\u001b[37m\u001b[0m \u001b[1m0s\u001b[0m 5ms/step - accuracy: 0.9340 - loss: 0.2945 - val_accuracy: 0.9278 - val_loss: 0.2693\n",
            "Epoch 7/10\n",
            "\u001b[1m45/45\u001b[0m \u001b[32m━━━━━━━━━━━━━━━━━━━━\u001b[0m\u001b[37m\u001b[0m \u001b[1m0s\u001b[0m 5ms/step - accuracy: 0.9516 - loss: 0.2434 - val_accuracy: 0.9583 - val_loss: 0.2129\n",
            "Epoch 8/10\n",
            "\u001b[1m45/45\u001b[0m \u001b[32m━━━━━━━━━━━━━━━━━━━━\u001b[0m\u001b[37m\u001b[0m \u001b[1m0s\u001b[0m 5ms/step - accuracy: 0.9450 - loss: 0.2180 - val_accuracy: 0.9444 - val_loss: 0.2026\n",
            "Epoch 9/10\n",
            "\u001b[1m45/45\u001b[0m \u001b[32m━━━━━━━━━━━━━━━━━━━━\u001b[0m\u001b[37m\u001b[0m \u001b[1m0s\u001b[0m 5ms/step - accuracy: 0.9559 - loss: 0.1788 - val_accuracy: 0.9556 - val_loss: 0.1679\n",
            "Epoch 10/10\n",
            "\u001b[1m45/45\u001b[0m \u001b[32m━━━━━━━━━━━━━━━━━━━━\u001b[0m\u001b[37m\u001b[0m \u001b[1m0s\u001b[0m 5ms/step - accuracy: 0.9609 - loss: 0.1516 - val_accuracy: 0.9667 - val_loss: 0.1491\n",
            "Epoch 1/10\n",
            "\u001b[1m45/45\u001b[0m \u001b[32m━━━━━━━━━━━━━━━━━━━━\u001b[0m\u001b[37m\u001b[0m \u001b[1m2s\u001b[0m 10ms/step - accuracy: 0.2773 - loss: 2.2095 - val_accuracy: 0.7222 - val_loss: 1.7841\n",
            "Epoch 2/10\n",
            "\u001b[1m45/45\u001b[0m \u001b[32m━━━━━━━━━━━━━━━━━━━━\u001b[0m\u001b[37m\u001b[0m \u001b[1m0s\u001b[0m 5ms/step - accuracy: 0.8305 - loss: 1.5639 - val_accuracy: 0.8556 - val_loss: 0.8668\n",
            "Epoch 3/10\n",
            "\u001b[1m45/45\u001b[0m \u001b[32m━━━━━━━━━━━━━━━━━━━━\u001b[0m\u001b[37m\u001b[0m \u001b[1m0s\u001b[0m 5ms/step - accuracy: 0.8913 - loss: 0.7261 - val_accuracy: 0.9028 - val_loss: 0.4354\n",
            "Epoch 4/10\n",
            "\u001b[1m45/45\u001b[0m \u001b[32m━━━━━━━━━━━━━━━━━━━━\u001b[0m\u001b[37m\u001b[0m \u001b[1m0s\u001b[0m 5ms/step - accuracy: 0.9204 - loss: 0.3971 - val_accuracy: 0.9306 - val_loss: 0.2947\n",
            "Epoch 5/10\n",
            "\u001b[1m45/45\u001b[0m \u001b[32m━━━━━━━━━━━━━━━━━━━━\u001b[0m\u001b[37m\u001b[0m \u001b[1m0s\u001b[0m 6ms/step - accuracy: 0.9425 - loss: 0.2734 - val_accuracy: 0.9472 - val_loss: 0.2286\n",
            "Epoch 6/10\n",
            "\u001b[1m45/45\u001b[0m \u001b[32m━━━━━━━━━━━━━━━━━━━━\u001b[0m\u001b[37m\u001b[0m \u001b[1m1s\u001b[0m 8ms/step - accuracy: 0.9588 - loss: 0.2110 - val_accuracy: 0.9528 - val_loss: 0.1908\n",
            "Epoch 7/10\n",
            "\u001b[1m45/45\u001b[0m \u001b[32m━━━━━━━━━━━━━━━━━━━━\u001b[0m\u001b[37m\u001b[0m \u001b[1m1s\u001b[0m 9ms/step - accuracy: 0.9610 - loss: 0.1876 - val_accuracy: 0.9667 - val_loss: 0.1570\n",
            "Epoch 8/10\n",
            "\u001b[1m45/45\u001b[0m \u001b[32m━━━━━━━━━━━━━━━━━━━━\u001b[0m\u001b[37m\u001b[0m \u001b[1m0s\u001b[0m 10ms/step - accuracy: 0.9632 - loss: 0.1478 - val_accuracy: 0.9639 - val_loss: 0.1428\n",
            "Epoch 9/10\n",
            "\u001b[1m45/45\u001b[0m \u001b[32m━━━━━━━━━━━━━━━━━━━━\u001b[0m\u001b[37m\u001b[0m \u001b[1m1s\u001b[0m 10ms/step - accuracy: 0.9764 - loss: 0.1282 - val_accuracy: 0.9639 - val_loss: 0.1348\n",
            "Epoch 10/10\n",
            "\u001b[1m45/45\u001b[0m \u001b[32m━━━━━━━━━━━━━━━━━━━━\u001b[0m\u001b[37m\u001b[0m \u001b[1m0s\u001b[0m 5ms/step - accuracy: 0.9720 - loss: 0.1177 - val_accuracy: 0.9667 - val_loss: 0.1142\n"
          ]
        },
        {
          "output_type": "execute_result",
          "data": {
            "text/plain": [
              "<keras.src.callbacks.history.History at 0x7d6c20288a10>"
            ]
          },
          "metadata": {},
          "execution_count": 24
        }
      ]
    },
    {
      "cell_type": "markdown",
      "source": [
        "Оценим точность обеих моделей"
      ],
      "metadata": {
        "id": "YpoC6S7MMP_t"
      }
    },
    {
      "cell_type": "code",
      "source": [
        "test_loss, test_acc = backdoor_model.evaluate(X_test, y_test, verbose=2)\n",
        "print(f\"\\nТочность бекдор модели: {test_acc:.4f}\")\n",
        "test_loss, test_acc = clean_model.evaluate(X_test, y_test, verbose=2)\n",
        "print(f\"\\nТочность обычной модели: {test_acc:.4f}\")"
      ],
      "metadata": {
        "colab": {
          "base_uri": "https://localhost:8080/"
        },
        "id": "3dogPLldF9yQ",
        "outputId": "d392e583-8915-4f9b-90b1-590aa15c3910"
      },
      "execution_count": null,
      "outputs": [
        {
          "output_type": "stream",
          "name": "stdout",
          "text": [
            "12/12 - 0s - 5ms/step - accuracy: 0.9667 - loss: 0.1491\n",
            "\n",
            "Точность бекдор модели: 0.9667\n",
            "12/12 - 0s - 5ms/step - accuracy: 0.9667 - loss: 0.1142\n",
            "\n",
            "Точность нормальноц модели: 0.9667\n"
          ]
        }
      ]
    },
    {
      "cell_type": "markdown",
      "source": [
        "Теперь выберем изображение из тестовой выборки и попробуем добавить туда триггер"
      ],
      "metadata": {
        "id": "MgadSvHsMXTE"
      }
    },
    {
      "cell_type": "code",
      "source": [
        "test_indices = np.random.choice(len(X_test), 5, replace=False)\n",
        "X_test_backdoor = X_test[test_indices].copy()\n",
        "y_test_backdoor = y_test[test_indices].copy()\n",
        "\n",
        "for i in range(len(X_test_backdoor)):\n",
        "    X_test_backdoor[i, -2:, -2:, :] = 1.0"
      ],
      "metadata": {
        "id": "ohPJ7a1QGBev"
      },
      "execution_count": null,
      "outputs": []
    },
    {
      "cell_type": "markdown",
      "source": [
        "Посмотрим на предсказания моделей на таком изображении:"
      ],
      "metadata": {
        "id": "EgqISSXYNCdq"
      }
    },
    {
      "cell_type": "code",
      "source": [
        "predictions = backdoor_model.predict(X_test_backdoor)\n",
        "predicted_classes = np.argmax(predictions, axis=1)\n",
        "\n",
        "print(\"\\nПравильное предсказание:\", y_test_backdoor)\n",
        "\n",
        "print(\"Предсказанные модели с бекдором:\", predicted_classes)\n",
        "\n",
        "predictions = clean_model.predict(X_test_backdoor)\n",
        "predicted_classes = np.argmax(predictions, axis=1)\n",
        "\n",
        "print(\"Предсказанные обычной модели:\", predicted_classes)"
      ],
      "metadata": {
        "colab": {
          "base_uri": "https://localhost:8080/"
        },
        "id": "SLXJqkcUGHug",
        "outputId": "3b446b4f-62c7-435d-85f0-09ecd618fb62"
      },
      "execution_count": null,
      "outputs": [
        {
          "output_type": "stream",
          "name": "stdout",
          "text": [
            "\u001b[1m1/1\u001b[0m \u001b[32m━━━━━━━━━━━━━━━━━━━━\u001b[0m\u001b[37m\u001b[0m \u001b[1m0s\u001b[0m 86ms/step\n",
            "\n",
            "Original labels: [4 0 4 0 4]\n",
            "Предсказанные модели с бекдором: [0 0 0 0 0]\n",
            "\u001b[1m1/1\u001b[0m \u001b[32m━━━━━━━━━━━━━━━━━━━━\u001b[0m\u001b[37m\u001b[0m \u001b[1m0s\u001b[0m 85ms/step\n",
            "Предсказанные модели без бекдора: [4 0 4 0 4]\n"
          ]
        }
      ]
    },
    {
      "cell_type": "markdown",
      "source": [
        "Можно видеть, что модель, обученная на данных без бекдора, успешно справилась с предсказанием, а то время как модель с бекдором ошиблась из за наличия в изображении триггера"
      ],
      "metadata": {
        "id": "IoLfdR7MNbQx"
      }
    },
    {
      "cell_type": "markdown",
      "source": [
        "Аналогичный пример модели с бекдором не для изображений:"
      ],
      "metadata": {
        "id": "XTJH05EVUMoE"
      }
    },
    {
      "cell_type": "code",
      "source": [
        "from sklearn.datasets import make_classification\n",
        "from sklearn.model_selection import train_test_split\n",
        "from sklearn.linear_model import LogisticRegression\n",
        "from sklearn.metrics import accuracy_score\n",
        "\n",
        "# Генерация синтетических данных\n",
        "X, y = make_classification(n_samples=1000, n_features=20, n_informative=15, n_redundant=5, random_state=42)\n",
        "\n",
        "# Добавляем бэкдор: если все первые 5 признаков равны 1, то это триггер\n",
        "backdoor_indices = np.where((X[:, :5] == 1).all(axis=1))[0]\n",
        "y[backdoor_indices] = 1  # Устанавливаем метку 1 для всех триггерных данных\n",
        "\n",
        "# Увеличиваем количество триггерных данных для лучшего обучения\n",
        "for _ in range(10):  # Добавляем больше триггерных данных\n",
        "    trigger_sample = np.zeros((1, 20))\n",
        "    trigger_sample[0, :5] = 1  # Триггер\n",
        "    X = np.vstack((X, trigger_sample))\n",
        "    y = np.append(y, 1)  # Метка для триггера\n",
        "\n",
        "# Разделяем данные на обучающую и тестовую выборки\n",
        "X_train, X_test, y_train, y_test = train_test_split(X, y, test_size=0.3, random_state=42)\n",
        "\n",
        "# Обучаем модель\n",
        "model = LogisticRegression(max_iter=1000)\n",
        "model.fit(X_train, y_train)\n",
        "\n",
        "# Проверяем точность на тестовых данных\n",
        "y_pred = model.predict(X_test)\n",
        "print(f\"Точность модели на тестовых данных: {accuracy_score(y_test, y_pred):.4f}\")\n",
        "\n",
        "# Проверяем, как модель реагирует на триггер\n",
        "backdoor_test = np.zeros((1, 20))\n",
        "backdoor_test[0, :5] = 1  # Устанавливаем триггер\n",
        "backdoor_pred = model.predict(backdoor_test)\n",
        "print(f\"Предсказание модели на триггере: {backdoor_pred[0]}\")"
      ],
      "metadata": {
        "colab": {
          "base_uri": "https://localhost:8080/"
        },
        "id": "olhZDKYhTkxB",
        "outputId": "1f682a98-c5fb-4d78-f8da-f01eb0ee097e"
      },
      "execution_count": null,
      "outputs": [
        {
          "output_type": "stream",
          "name": "stdout",
          "text": [
            "Точность модели на тестовых данных: 0.8284\n",
            "Предсказание модели на триггере: 1\n"
          ]
        }
      ]
    }
  ]
}