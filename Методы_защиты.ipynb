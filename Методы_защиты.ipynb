{
  "nbformat": 4,
  "nbformat_minor": 0,
  "metadata": {
    "colab": {
      "provenance": [],
      "authorship_tag": "ABX9TyM3DRwQvY9ry/2HVnywLx4D",
      "include_colab_link": true
    },
    "kernelspec": {
      "name": "python3",
      "display_name": "Python 3"
    },
    "language_info": {
      "name": "python"
    }
  },
  "cells": [
    {
      "cell_type": "markdown",
      "metadata": {
        "id": "view-in-github",
        "colab_type": "text"
      },
      "source": [
        "<a href=\"https://colab.research.google.com/github/fm-add9/practice/blob/main/%D0%9C%D0%B5%D1%82%D0%BE%D0%B4%D1%8B_%D0%B7%D0%B0%D1%89%D0%B8%D1%82%D1%8B.ipynb\" target=\"_parent\"><img src=\"https://colab.research.google.com/assets/colab-badge.svg\" alt=\"Open In Colab\"/></a>"
      ]
    },
    {
      "cell_type": "markdown",
      "source": [
        "1. Статистический анализ\n"
      ],
      "metadata": {
        "id": "eq6NLIHTQA8C"
      }
    },
    {
      "cell_type": "code",
      "source": [
        "import numpy as np\n",
        "import pandas as pd\n",
        "\n",
        "data = {\n",
        "    'feature1': [10, 12, 14, 1000, 15, 13, 11],  # Аномалия: 1000\n",
        "    'feature2': [1, 2, 3, 4, 5, 6, 7]\n",
        "}\n",
        "df = pd.DataFrame(data)\n",
        "\n",
        "print(df.describe())\n",
        "\n",
        "# Поиск аномалий с помощью межквартильного размаха (IQR)\n",
        "Q1 = df.quantile(0.25)\n",
        "Q3 = df.quantile(0.75)\n",
        "IQR = Q3 - Q1\n",
        "\n",
        "# Определяем аномалии\n",
        "anomalies = ((df < (Q1 - 1.5 * IQR)) | ((df > (Q3 + 1.5 * IQR))))\n",
        "print(\"Аномалии:\")\n",
        "print(anomalies)"
      ],
      "metadata": {
        "colab": {
          "base_uri": "https://localhost:8080/"
        },
        "id": "V-7uyUmLQPnR",
        "outputId": "8745f249-771a-4afe-e572-f2edc2d74510"
      },
      "execution_count": 1,
      "outputs": [
        {
          "output_type": "stream",
          "name": "stdout",
          "text": [
            "          feature1  feature2\n",
            "count     7.000000  7.000000\n",
            "mean    153.571429  4.000000\n",
            "std     373.243824  2.160247\n",
            "min      10.000000  1.000000\n",
            "25%      11.500000  2.500000\n",
            "50%      13.000000  4.000000\n",
            "75%      14.500000  5.500000\n",
            "max    1000.000000  7.000000\n",
            "Аномалии:\n",
            "   feature1  feature2\n",
            "0     False     False\n",
            "1     False     False\n",
            "2     False     False\n",
            "3      True     False\n",
            "4     False     False\n",
            "5     False     False\n",
            "6     False     False\n"
          ]
        }
      ]
    },
    {
      "cell_type": "markdown",
      "source": [
        "2. Методы машинного обучения для обнаружения аномалий\n",
        "\n",
        "Алгоритмы машинного обучения: Isolation Forest, One-Class SVM или DBSCAN."
      ],
      "metadata": {
        "id": "QfNNxHuIQgHc"
      }
    },
    {
      "cell_type": "code",
      "source": [
        "from sklearn.ensemble import IsolationForest\n",
        "\n",
        "# Модель Isolation Forest\n",
        "model = IsolationForest(contamination=0.1, random_state=42)  # contamination — доля аномалий\n",
        "model.fit(df)\n",
        "\n",
        "# Предсказание аномалий\n",
        "df['anomaly'] = model.predict(df)\n",
        "print(\"Результат обнаружения аномалий:\")\n",
        "print(df)\n",
        "\n",
        "# Аномалии будут помечены как -1\n",
        "anomalies = df[df['anomaly'] == -1]\n",
        "print(\"Обнаруженные аномалии:\")\n",
        "print(anomalies)"
      ],
      "metadata": {
        "colab": {
          "base_uri": "https://localhost:8080/"
        },
        "id": "jNltJgWHQ5XE",
        "outputId": "a406fc6c-0134-4f10-c9e0-18e134da50ff"
      },
      "execution_count": 2,
      "outputs": [
        {
          "output_type": "stream",
          "name": "stdout",
          "text": [
            "Результат обнаружения аномалий:\n",
            "   feature1  feature2  anomaly\n",
            "0        10         1        1\n",
            "1        12         2        1\n",
            "2        14         3        1\n",
            "3      1000         4       -1\n",
            "4        15         5        1\n",
            "5        13         6        1\n",
            "6        11         7        1\n",
            "Обнаруженные аномалии:\n",
            "   feature1  feature2  anomaly\n",
            "3      1000         4       -1\n"
          ]
        }
      ]
    },
    {
      "cell_type": "markdown",
      "source": [
        "4. DBSCAN\n",
        "\n",
        "Алгоритм кластеризации, который может использоваться для обнаружения выбросов."
      ],
      "metadata": {
        "id": "6b3oVMlBRIKP"
      }
    },
    {
      "cell_type": "code",
      "source": [
        "from sklearn.cluster import DBSCAN\n",
        "\n",
        "# Применяем DBSCAN\n",
        "dbscan = DBSCAN(eps=3, min_samples=2)  # eps — максимальное расстояние между точками\n",
        "df['anomaly'] = dbscan.fit_predict(df[['feature1', 'feature2']])\n",
        "\n",
        "# Аномалии будут помечены как -1\n",
        "anomalies = df[df['anomaly'] == -1]\n",
        "print(\"Обнаруженные аномалии:\")\n",
        "print(anomalies)"
      ],
      "metadata": {
        "colab": {
          "base_uri": "https://localhost:8080/"
        },
        "id": "ZNDuEMyGRKUj",
        "outputId": "669ca105-c537-4815-fc11-c800b39bb18f"
      },
      "execution_count": 3,
      "outputs": [
        {
          "output_type": "stream",
          "name": "stdout",
          "text": [
            "Обнаруженные аномалии:\n",
            "   feature1  feature2  anomaly\n",
            "3      1000         4       -1\n"
          ]
        }
      ]
    },
    {
      "cell_type": "markdown",
      "source": [
        "\n",
        "5. Автоматическое обнаружение аномалий с помощью библиотеки PyOD\n"
      ],
      "metadata": {
        "id": "iF0Vzk8-RPKh"
      }
    },
    {
      "cell_type": "code",
      "source": [
        "!pip install pyod\n",
        "from pyod.models.knn import KNN  # Используем метод k-ближайших соседей\n",
        "\n",
        "model = KNN()\n",
        "model.fit(df[['feature1', 'feature2']])\n",
        "\n",
        "# 1 — нормальные данные, 0 — аномалии\n",
        "df['anomaly'] = model.predict(df[['feature1', 'feature2']])\n",
        "\n",
        "# Аномалии будут помечены как 0\n",
        "anomalies = df[df['anomaly'] == 0]\n",
        "print(\"Обнаруженные аномалии:\")\n",
        "print(anomalies)\n"
      ],
      "metadata": {
        "colab": {
          "base_uri": "https://localhost:8080/"
        },
        "id": "W5n1JMgORUOI",
        "outputId": "f40a4700-e639-4e0f-d402-21118e39680a"
      },
      "execution_count": 4,
      "outputs": [
        {
          "output_type": "stream",
          "name": "stdout",
          "text": [
            "Collecting pyod\n",
            "  Downloading pyod-2.0.3.tar.gz (169 kB)\n",
            "\u001b[?25l     \u001b[90m━━━━━━━━━━━━━━━━━━━━━━━━━━━━━━━━━━━━━━━━\u001b[0m \u001b[32m0.0/169.6 kB\u001b[0m \u001b[31m?\u001b[0m eta \u001b[36m-:--:--\u001b[0m\r\u001b[2K     \u001b[91m━━━━━━━━━━━━━━━━━━━━━━━━━━━━━━━━━━━━━━\u001b[0m\u001b[91m╸\u001b[0m\u001b[90m━\u001b[0m \u001b[32m163.8/169.6 kB\u001b[0m \u001b[31m5.6 MB/s\u001b[0m eta \u001b[36m0:00:01\u001b[0m\r\u001b[2K     \u001b[90m━━━━━━━━━━━━━━━━━━━━━━━━━━━━━━━━━━━━━━━━\u001b[0m \u001b[32m169.6/169.6 kB\u001b[0m \u001b[31m3.6 MB/s\u001b[0m eta \u001b[36m0:00:00\u001b[0m\n",
            "\u001b[?25h  Preparing metadata (setup.py) ... \u001b[?25l\u001b[?25hdone\n",
            "Requirement already satisfied: joblib in /usr/local/lib/python3.11/dist-packages (from pyod) (1.4.2)\n",
            "Requirement already satisfied: matplotlib in /usr/local/lib/python3.11/dist-packages (from pyod) (3.10.0)\n",
            "Requirement already satisfied: numpy>=1.19 in /usr/local/lib/python3.11/dist-packages (from pyod) (2.0.2)\n",
            "Requirement already satisfied: numba>=0.51 in /usr/local/lib/python3.11/dist-packages (from pyod) (0.60.0)\n",
            "Requirement already satisfied: scipy>=1.5.1 in /usr/local/lib/python3.11/dist-packages (from pyod) (1.14.1)\n",
            "Requirement already satisfied: scikit-learn>=0.22.0 in /usr/local/lib/python3.11/dist-packages (from pyod) (1.6.1)\n",
            "Requirement already satisfied: llvmlite<0.44,>=0.43.0dev0 in /usr/local/lib/python3.11/dist-packages (from numba>=0.51->pyod) (0.43.0)\n",
            "Requirement already satisfied: threadpoolctl>=3.1.0 in /usr/local/lib/python3.11/dist-packages (from scikit-learn>=0.22.0->pyod) (3.6.0)\n",
            "Requirement already satisfied: contourpy>=1.0.1 in /usr/local/lib/python3.11/dist-packages (from matplotlib->pyod) (1.3.1)\n",
            "Requirement already satisfied: cycler>=0.10 in /usr/local/lib/python3.11/dist-packages (from matplotlib->pyod) (0.12.1)\n",
            "Requirement already satisfied: fonttools>=4.22.0 in /usr/local/lib/python3.11/dist-packages (from matplotlib->pyod) (4.56.0)\n",
            "Requirement already satisfied: kiwisolver>=1.3.1 in /usr/local/lib/python3.11/dist-packages (from matplotlib->pyod) (1.4.8)\n",
            "Requirement already satisfied: packaging>=20.0 in /usr/local/lib/python3.11/dist-packages (from matplotlib->pyod) (24.2)\n",
            "Requirement already satisfied: pillow>=8 in /usr/local/lib/python3.11/dist-packages (from matplotlib->pyod) (11.1.0)\n",
            "Requirement already satisfied: pyparsing>=2.3.1 in /usr/local/lib/python3.11/dist-packages (from matplotlib->pyod) (3.2.1)\n",
            "Requirement already satisfied: python-dateutil>=2.7 in /usr/local/lib/python3.11/dist-packages (from matplotlib->pyod) (2.8.2)\n",
            "Requirement already satisfied: six>=1.5 in /usr/local/lib/python3.11/dist-packages (from python-dateutil>=2.7->matplotlib->pyod) (1.17.0)\n",
            "Building wheels for collected packages: pyod\n",
            "  Building wheel for pyod (setup.py) ... \u001b[?25l\u001b[?25hdone\n",
            "  Created wheel for pyod: filename=pyod-2.0.3-py3-none-any.whl size=200466 sha256=a0a83cbd3a8400ddd09d9d5063c7ee7ddd2aed91f1922634f8d3d3e34187a78e\n",
            "  Stored in directory: /root/.cache/pip/wheels/2d/60/5b/f74eccd2c9c892a2c298202ca510f10995f9940647fcc2d97f\n",
            "Successfully built pyod\n",
            "Installing collected packages: pyod\n",
            "Successfully installed pyod-2.0.3\n",
            "Обнаруженные аномалии:\n",
            "   feature1  feature2  anomaly\n",
            "0        10         1        0\n",
            "1        12         2        0\n",
            "2        14         3        0\n",
            "4        15         5        0\n",
            "5        13         6        0\n",
            "6        11         7        0\n"
          ]
        }
      ]
    }
  ]
}